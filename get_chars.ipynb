{
 "cells": [
  {
   "cell_type": "code",
   "execution_count": 1,
   "metadata": {},
   "outputs": [],
   "source": [
    "import numpy as np\n",
    "import pandas as pd"
   ]
  },
  {
   "cell_type": "code",
   "execution_count": null,
   "metadata": {},
   "outputs": [],
   "source": [
    "from functools import reduce"
   ]
  },
  {
   "cell_type": "code",
   "execution_count": 12,
   "metadata": {},
   "outputs": [],
   "source": [
    "transcriptions = pd.read_csv(\"transcriptions/british.csv\")\n",
    "\n",
    "def get_chars(string):\n",
    "    chars = set()\n",
    "    \n",
    "    for char in string:\n",
    "        chars.add(char.lower())\n",
    "        \n",
    "    return chars\n",
    "\n",
    "orth_chars = set()\n",
    "phon_chars = set()\n",
    "\n",
    "for index, row in transcriptions.iterrows():\n",
    "    orth_chars = orth_chars.union(get_chars(row[\"word\"]))\n",
    "    \n",
    "    phon_chars = phon_chars.union(get_chars(row[\"transcription\"]))"
   ]
  },
  {
   "cell_type": "code",
   "execution_count": 13,
   "metadata": {},
   "outputs": [
    {
     "name": "stdout",
     "output_type": "stream",
     "text": [
      "{'i', 'l', 't', 'a', 'f', 'm', 'n', 'v', 'p', 'o', 'h', 'j', 'w', 'r', 'b', 'x', 'c', 'q', 'z', 'y', 'e', 'g', 'u', 's', 'k', 'd'}\n",
      "{'t', 'f', 'ʌ', ':', 'ɔ', 'ɜ', 'd', 'p', 'h', 'ʃ', 'r', 'b', 'ʊ', 'ɪ', 'ɒ', 'ŋ', 'ɑ', 'g', 'u', 'k', 'i', 'ʒ', 'l', 'a', 'm', 'ˌ', 'n', 'v', 'j', 'w', \"'\", 'æ', 'e', 'ð', 'θ', 'ə', 's', 'z'}\n"
     ]
    }
   ],
   "source": [
    "print(orth_chars)\n",
    "print(phon_chars)"
   ]
  },
  {
   "cell_type": "code",
   "execution_count": 20,
   "metadata": {},
   "outputs": [
    {
     "name": "stdout",
     "output_type": "stream",
     "text": [
      "abcdefghijklmnopqrstuvwxyz\n",
      "':abdefghijklmnprstuvwzæðŋɑɒɔəɜɪʃʊʌʒˌθ\n"
     ]
    }
   ],
   "source": [
    "def stringify(set_s):\n",
    "    return \"\".join(sorted(list(set_s)))\n",
    "\n",
    "orth = stringify(orth_chars)\n",
    "phon = stringify(phon_chars)\n",
    "\n",
    "print(orth)\n",
    "print(phon)\n",
    "\n",
    "with open(\"transcriptions/british_phonemes.txt\", \"w+\") as f:\n",
    "    f.write(phon)\n",
    "\n",
    "with open(\"transcriptions/british_letters.txt\", \"w+\") as f:\n",
    "    f.write(orth)\n"
   ]
  },
  {
   "cell_type": "code",
   "execution_count": null,
   "metadata": {},
   "outputs": [],
   "source": []
  }
 ],
 "metadata": {
  "kernelspec": {
   "display_name": "Python 3",
   "language": "python",
   "name": "python3"
  },
  "language_info": {
   "codemirror_mode": {
    "name": "ipython",
    "version": 3
   },
   "file_extension": ".py",
   "mimetype": "text/x-python",
   "name": "python",
   "nbconvert_exporter": "python",
   "pygments_lexer": "ipython3",
   "version": "3.6.4"
  }
 },
 "nbformat": 4,
 "nbformat_minor": 2
}
