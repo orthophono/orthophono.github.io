{
 "cells": [
  {
   "cell_type": "code",
   "execution_count": 1,
   "metadata": {},
   "outputs": [],
   "source": [
    "import math\n",
    "\n",
    "\"\"\"\n",
    "    Returns the word as a list of strings representing its clusters.\n",
    "    \n",
    "    word - word to turn into a list of cluster(letters)-sound(consonant or vowel) pairs\n",
    "    is_orth - true if word is orthological, false is word is phonemic\n",
    "\"\"\"\n",
    "def get_cluster(word, is_orth):\n",
    "    cluster = []\n",
    "    if (is_orth):\n",
    "        consonants = ['l', 't', 'f', 'm', 'n', 'v', 'p', 'h', 'j', 'w', 'r', 'b', 'x', 'c', 'q', 'z',  'g', 's', 'k', 'd', 'y']\n",
    "        vowels = ['i', 'a', 'o', 'e', 'u', 'y']\n",
    "    else:\n",
    "        consonants = ['t', 'f', 'd', 'p', 'h', 'ʃ', 'r', 'b', 'θ', 'ŋ', 'g', 'k', 'ʒ', 'l', 'm', 'n', 'v', 'j', 'w', \"'\", 'ð', 's', 'z']\n",
    "        vowels = ['ɑ', 'a', 'ɜ', 'ʊ', 'æ', 'e', 'ə', 'u', 'i', 'ɪ', 'ʌ', 'ɔ', 'ɒ']\n",
    "        \n",
    "    for i in range(len(word)):\n",
    "        if (is_orth == True) & (word[i] == 'y'):\n",
    "            # 'y' is a semivowel (can be either vowel or consonant)\n",
    "            if i == 0:\n",
    "                if word[i+1] in consonants:\n",
    "                    cluster.append(([word[i]],'v'))\n",
    "                else:\n",
    "                    cluster.append(([word[i]],'c'))\n",
    "            else:\n",
    "                cluster.append(([word[i]],'v'))\n",
    "        elif word[i] in consonants:\n",
    "            cluster.append(([word[i]],'c'))\n",
    "            \n",
    "        else:\n",
    "            cluster.append(([word[i]],'v'))\n",
    "    \n",
    "    i=0\n",
    "    while i < len(cluster)-1:\n",
    "        if cluster[i][1] == cluster[i+1][1]:\n",
    "            cluster[i] = ((cluster[i][0] + cluster[i+1][0]), cluster[i][1])\n",
    "            cluster.pop(i+1)\n",
    "        else:\n",
    "            i += 1\n",
    "    \n",
    "    return cluster"
   ]
  },
  {
   "cell_type": "code",
   "execution_count": 2,
   "metadata": {},
   "outputs": [
    {
     "name": "stdout",
     "output_type": "stream",
     "text": [
      "\n",
      "stood\n",
      "[(['s', 't'], 'c'), (['o', 'o'], 'v'), (['d'], 'c')]\n",
      "[(['s', 't'], 'c'), (['ʊ'], 'v'), (['d'], 'c')]\n",
      "\n",
      "breakfast\n",
      "[(['b', 'r'], 'c'), (['e', 'a'], 'v'), (['k', 'f'], 'c'), (['a'], 'v'), (['s', 't'], 'c')]\n",
      "[(['b', 'r'], 'c'), (['e'], 'v'), (['k', 'f'], 'c'), (['ə'], 'v'), (['s', 't'], 'c')]\n",
      "\n",
      "computer\n",
      "[(['c'], 'c'), (['o'], 'v'), (['m', 'p'], 'c'), (['u'], 'v'), (['t'], 'c'), (['e'], 'v'), (['r'], 'c')]\n",
      "[(['k'], 'c'), (['ə'], 'v'), (['m', 'p', 'j'], 'c'), (['u'], 'v'), (['t'], 'c'), (['ə'], 'v')]\n",
      "\n",
      "listen\n",
      "[(['l'], 'c'), (['i'], 'v'), (['s', 't'], 'c'), (['e'], 'v'), (['n'], 'c')]\n",
      "[(['l'], 'c'), (['ɪ'], 'v'), (['s'], 'c'), (['ə'], 'v'), (['n'], 'c')]\n",
      "\n",
      "rubber\n",
      "[(['r'], 'c'), (['u'], 'v'), (['b', 'b'], 'c'), (['e'], 'v'), (['r'], 'c')]\n",
      "[(['r'], 'c'), (['ʌ'], 'v'), (['b'], 'c'), (['ə'], 'v')]\n",
      "\n",
      "without\n",
      "[(['w'], 'c'), (['i'], 'v'), (['t', 'h'], 'c'), (['o', 'u'], 'v'), (['t'], 'c')]\n",
      "[(['w'], 'c'), (['ɪ'], 'v'), (['ð'], 'c'), (['a', 'ʊ'], 'v'), (['t'], 'c')]\n",
      "\n",
      "enjoyed\n",
      "[(['e'], 'v'), (['n', 'j'], 'c'), (['o', 'y', 'e'], 'v'), (['d'], 'c')]\n",
      "[(['ɪ'], 'v'), (['n', 'd', 'ʒ'], 'c'), (['ɔ', 'ɪ'], 'v')]\n"
     ]
    }
   ],
   "source": [
    "# Testing get_cluster() on various words\n",
    "o_words = ['stood', 'breakfast', 'computer', 'listen', 'rubber', 'without', 'enjoyed']\n",
    "p_words = ['stʊd', 'brekfəst', 'kəmpjutə', 'lɪsən', 'rʌbə', 'wɪðaʊt', 'ɪndʒɔɪ']\n",
    "\n",
    "for i in range(len(o_words)):\n",
    "    print('\\n' + o_words[i])\n",
    "    print(get_cluster(o_words[i], True))\n",
    "    print(get_cluster(p_words[i], False))"
   ]
  },
  {
   "cell_type": "code",
   "execution_count": null,
   "metadata": {},
   "outputs": [],
   "source": []
  }
 ],
 "metadata": {
  "kernelspec": {
   "display_name": "Python 3",
   "language": "python",
   "name": "python3"
  },
  "language_info": {
   "codemirror_mode": {
    "name": "ipython",
    "version": 3
   },
   "file_extension": ".py",
   "mimetype": "text/x-python",
   "name": "python",
   "nbconvert_exporter": "python",
   "pygments_lexer": "ipython3",
   "version": "3.6.4"
  }
 },
 "nbformat": 4,
 "nbformat_minor": 2
}
